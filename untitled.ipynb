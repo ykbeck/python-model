{
  "nbformat": 4,
  "nbformat_minor": 0,
  "metadata": {
    "colab": {
      "provenance": [],
      "mount_file_id": "12khLwTvZuuK3XYz0I46CA6I_RxBK6SIK",
      "authorship_tag": "ABX9TyM6vA3W2Vb11TXrAIRGdvrH",
      "include_colab_link": true
    },
    "kernelspec": {
      "name": "python3",
      "display_name": "Python 3"
    },
    "language_info": {
      "name": "python"
    }
  },
  "cells": [
    {
      "cell_type": "markdown",
      "metadata": {
        "id": "view-in-github",
        "colab_type": "text"
      },
      "source": [
        "<a href=\"https://colab.research.google.com/github/ykbeck/python-model/blob/main/untitled.ipynb\" target=\"_parent\"><img src=\"https://colab.research.google.com/assets/colab-badge.svg\" alt=\"Open In Colab\"/></a>"
      ]
    },
    {
      "cell_type": "markdown",
      "source": [
        "#빅데이터마케팅분석전문가#4\n"
      ],
      "metadata": {
        "id": "1TwLPQrFbKeq"
      }
    },
    {
      "cell_type": "markdown",
      "source": [
        "##1.인공신경망"
      ],
      "metadata": {
        "id": "_xHVxCEXbd4D"
      }
    },
    {
      "cell_type": "code",
      "execution_count": null,
      "metadata": {
        "id": "KAZGUE_UbJp6"
      },
      "outputs": [],
      "source": [
        "import pandas as pd\n",
        "df = pd.read_csv(\"/content/drive/MyDrive/Ashopping (1).csv\", encoding = \"cp949\")"
      ]
    },
    {
      "cell_type": "code",
      "source": [
        "from sklearn.model_selection import train_test_split\n",
        "from sklearn.compose import ColumnTransformer\n",
        "from sklearn.preprocessing import StandardScaler\n",
        "from sklearn.preprocessing import OneHotEncoder\n",
        "from imblearn.over_sampling import SMOTE"
      ],
      "metadata": {
        "id": "C8BqlYFAb7ZI"
      },
      "execution_count": null,
      "outputs": []
    },
    {
      "cell_type": "code",
      "source": [
        "#분류예측\n",
        "\n",
        "#1.변수선택\n",
        "X = df[['총매출액','구매금액대','1회 평균매출액','평균 구매주기','거래기간']]\n",
        "Y = df[\"할인민감여부\"]\n",
        "\n",
        "#2.train - test split\n",
        "X_train, X_test, Y_train, Y_test = train_test_split(X, Y, test_size=0.3, random_state=0)\n",
        "\n",
        "#3. 데이터 전처리(preprocessing)\n",
        "ct = ColumnTransformer([('scaling', StandardScaler(), ['총매출액','1회 평균매출액','평균 구매주기','거래기간']),\n",
        "                        ('onehot', OneHotEncoder(sparse=False), [\"구매금액대\"])])\n",
        "\n",
        "ct.fit(X_train)\n",
        "X_train = ct.transform(X_train)\n",
        "X_test = ct.transform(X_test)\n",
        "\n",
        "#4. 오버샘플링\n",
        "smote = SMOTE(random_state = 0)\n",
        "X_train, Y_train = smote.fit_resample(X_train, Y_train)"
      ],
      "metadata": {
        "id": "mGd1Efuwc-5p"
      },
      "execution_count": null,
      "outputs": []
    },
    {
      "cell_type": "code",
      "source": [
        "#5. 모델링\n",
        "from sklearn.neural_network import MLPClassifier\n",
        "nn_model = MLPClassifier(random_state=0,alpha = 0.001, hidden_layer_sizes = [50])\n",
        "\n",
        "#5.1 모형학습\n",
        "nn_model.fit(X_train, Y_train)\n",
        "\n",
        "#6. 예측\n",
        "Y_pred = nn_model.predict(X_test)"
      ],
      "metadata": {
        "id": "gMd-scnsgdyF",
        "colab": {
          "base_uri": "https://localhost:8080/"
        },
        "outputId": "673bde69-5c32-4b44-94c2-9b3b9495f5be"
      },
      "execution_count": null,
      "outputs": [
        {
          "output_type": "stream",
          "name": "stderr",
          "text": [
            "/usr/local/lib/python3.8/dist-packages/sklearn/neural_network/_multilayer_perceptron.py:692: ConvergenceWarning: Stochastic Optimizer: Maximum iterations (200) reached and the optimization hasn't converged yet.\n",
            "  warnings.warn(\n"
          ]
        }
      ]
    },
    {
      "cell_type": "code",
      "source": [
        "#7. 결과값 보고\n",
        "print(\"Y 예측값 \\n\", Y_pred)\n",
        "print(\"accuracy(train) : {:.3f}\".format(nn_model.score(X_train, Y_train)))\n",
        "from sklearn.metrics import classification_report\n",
        "print(classification_report(Y_test, Y_pred))"
      ],
      "metadata": {
        "colab": {
          "base_uri": "https://localhost:8080/"
        },
        "id": "EO8yG2wthPCn",
        "outputId": "0a507cee-cfbe-4b42-f204-e84bfe663b5e"
      },
      "execution_count": null,
      "outputs": [
        {
          "output_type": "stream",
          "name": "stdout",
          "text": [
            "Y 예측값 \n",
            " [1 1 0 0 1 1 0 0 0 1 0 1 1 0 1 0 1 0 0 0 0 1 0 0 1 1 0 0 0 0 1 1 1 1 1 1 1\n",
            " 0 1 0 0 1 1 1 0 0 1 0 0 0 1 0 0 0 1 1 0 1 1 1 0 1 1 0 0 0 1 1 0 0 1 0 0 0\n",
            " 1 0 0 0 0 1 0 0 0 1 1 1 0 0 1 0 1 0 0 0 0 1 1 0 0 0 1 1 0 1 0 1 1 0 1 1 0\n",
            " 1 1 0 0 0 0 0 0 0 1 0 0 1 0 1 0 0 1 1 0 0 1 1 1 1 0 1 0 1 0 0 0 0 0 1 0 0\n",
            " 1 1 0 0 0 0 0 1 0 0 0 0 1 1 0 0 1 0 0 1 0 0 1 1 0 1 0 1 0 0 1 0 0 0 1 0 1\n",
            " 0 0 1 1 1 0 1 0 1 1 1 1 0 1 0 0 1 0 1 1 0 1 1 1 1 0 0 0 1 0 1 0 0 0 1 1 1\n",
            " 1 0 0 1 1 0 0 1 1 0 0 0 0 0 0 0 0 0 1 0 0 0 1 0 1 0 1 1 0 1 0 0 0 1 1 0 0\n",
            " 0 1 1 1 0 0 0 0 0 1 0 1 1 0 0 1 1 0 0 0 0 1 1 0 1 0 0 1 0 0 0 1 0 1 1 0 0\n",
            " 0 0 0 0]\n",
            "accuracy(train) : 0.889\n",
            "              precision    recall  f1-score   support\n",
            "\n",
            "           0       0.92      0.89      0.91       177\n",
            "           1       0.85      0.89      0.87       123\n",
            "\n",
            "    accuracy                           0.89       300\n",
            "   macro avg       0.89      0.89      0.89       300\n",
            "weighted avg       0.89      0.89      0.89       300\n",
            "\n"
          ]
        }
      ]
    },
    {
      "cell_type": "markdown",
      "source": [
        "#회귀에측"
      ],
      "metadata": {
        "id": "QbAlhfwAoqnk"
      }
    },
    {
      "cell_type": "code",
      "source": [
        "import numpy as np\n",
        "\n",
        "#1.변수선택\n",
        "X = df[df.이탈여부 == 0][['방문빈도', '총 할인 금액', '고객등급', '구매유형', '거래기간', '할인민감여부', '평균 구매주기']]\n",
        "Y = df[df.이탈여부 == 0][\"1회 평균매출액\"]\n",
        "\n",
        "#2.train - test split\n",
        "X_train, X_test, Y_train, Y_test = train_test_split(X, Y, test_size=0.3, random_state=0)\n",
        "\n",
        "#3. 데이터 전처리(preprocessing)\n",
        "ct = ColumnTransformer([('scaling', StandardScaler(), ['방문빈도', '총 할인 금액', '거래기간', '평균 구매주기']),\n",
        "                        ('onehot', OneHotEncoder(sparse = False), ['고객등급', '구매유형', '할인민감여부'])])\n",
        "\n",
        "ct.fit(X_train)\n",
        "X_train = ct.transform(X_train)\n",
        "X_test = ct.transform(X_test)\n",
        "\n"
      ],
      "metadata": {
        "id": "s7e6J_ZlopKo"
      },
      "execution_count": null,
      "outputs": []
    },
    {
      "cell_type": "code",
      "source": [],
      "metadata": {
        "id": "PUfrsHhzrun7"
      },
      "execution_count": null,
      "outputs": []
    },
    {
      "cell_type": "code",
      "source": [
        "#5. 모델링\n",
        "from sklearn.neural_network import MLPRegressor\n",
        "\n",
        "#4-1. 모델 생성\n",
        "nn_reg_model = MLPRegressor(random_state=0, alpha = 0.00000001, max_iter = 2000, hidden_layer_sizes=[50, 50])\n",
        "\n",
        "#5. 모형학습 및 예측\n",
        "nn_reg_model.fit(X_train, Y_train)\n",
        "Y_pred = nn_reg_model.predict(X_test)\n",
        "\n",
        "#6. 결측값 보고\n",
        "print(\"Y predict value \\n\", Y_pred)\n",
        "print(\"train accuracy(train) : {:.3f}\".format(nn_reg_model.score(X_train, Y_train)))\n",
        "from sklearn.metrics import mean_squared_error\n",
        "from math import sqrt\n",
        "rmse = sqrt(mean_squared_error(Y_test, Y_pred))\n",
        "print(\"RMSE : {:.3f}\".format(rmse))"
      ],
      "metadata": {
        "colab": {
          "base_uri": "https://localhost:8080/"
        },
        "id": "YWnQQ0RtkipI",
        "outputId": "28ba0d04-3b9e-421c-969b-5b9473df86c0"
      },
      "execution_count": null,
      "outputs": [
        {
          "output_type": "stream",
          "name": "stdout",
          "text": [
            "Y predict value \n",
            " [381377.89830212 197284.85721495 203219.48636568 631159.77674302\n",
            " 110528.23295788 288982.40094922   8456.20446084 152692.62938782\n",
            " 135155.11347696 303503.12741408 235880.88535715 253269.01242836\n",
            " 218424.76716747 237653.75898284 348330.99229808 300812.12831331\n",
            " 404061.34185828 444805.29112157 212521.79449456 299138.83121165\n",
            " 465593.122549   107911.76472225 258237.16215196 358785.33851613\n",
            "   4100.25870784 462633.22387955 399311.65396569 179804.9854664\n",
            " 186939.17680883 209241.54783866 401091.06713876 465771.75145107\n",
            " 222193.0208787  459139.66752997 223438.94618939 113532.55478195\n",
            " 187274.17939714 458569.91927869 132858.90339339 712407.92754891\n",
            " 348015.42122471 178510.02206347 295630.83744335 312829.58986605\n",
            " 283171.7724844  375446.73130221  10031.39180659 229117.30528421\n",
            " 360277.81739759 364009.40577296 219460.75034676 640722.60158319\n",
            "  35528.77656904 431181.65597698 369170.40201423 231022.21897441\n",
            " 350900.29605767 266926.8668445  325818.01785891 289582.67913394\n",
            " 388241.69928906 465784.83702391 249760.85077095 327297.74331532\n",
            " 229431.44900149 163680.6988265  250652.36827664 107682.18270704\n",
            " 428021.80312624 275778.271584   252776.60714751 170727.71995399\n",
            " 138779.62502955 275516.70568285 208826.88926883 463972.35595012\n",
            " 403256.32531995 507201.86262864 129386.39682429 279616.48222592\n",
            " 235905.94843119 204096.99735516 157228.53159726 231056.73502175\n",
            " 310456.69573506 381817.81575031 325599.4357007  312831.70358382\n",
            " 305550.11090007 426842.81932882 231000.54427642 443751.89575531\n",
            " 298121.264857   471551.86088052 153299.74053824 548620.31430731\n",
            " 373566.84902355 276382.26551423 460090.99273925 152830.04318093\n",
            " 215445.03888749 298591.34630993 366151.5109789  208647.46218696\n",
            " 298978.503882   415661.9352201  424984.2905896   66550.79074116\n",
            " 265322.24593539 402880.20689499 210492.81598248 128868.1326388\n",
            " 386103.53013193 508969.50495024 220540.30283439 258792.49745325\n",
            " 274778.75170243 377056.93819202 274291.21363411 353319.16602607\n",
            " 370201.25244467 454671.74450324 213979.91891813 391514.54898432\n",
            " 431850.67409515 207791.55602881 170398.16751811 290898.81397493\n",
            " 419834.52529734 200007.10926609 147282.19917746 130594.43630878\n",
            " 570234.83421824 254488.92151919 135493.2687081  296305.09908959\n",
            " 161830.53682657 152747.04216312 317479.41470139 185844.38495354\n",
            " 235424.55290493 249361.67788805 321408.66299158 179093.30739108\n",
            " 238810.39627159 356459.13709237 351193.47990626 445384.37465529\n",
            " 250547.71856872 280259.20530433 235154.98359063 363077.00518653\n",
            " 271974.38013191 430371.22270894 873188.90016462  86724.18948265\n",
            "  45918.89653289 442020.63689957 242953.20915882 344853.11906756\n",
            " 462117.71651593 432293.12092962 354872.91424152 158239.52626879\n",
            " 281577.4173388  303383.45318215 404020.26030783 141626.31016881\n",
            " 391539.5847468  291954.64413538   7717.55463714 242409.62364405\n",
            " 123572.53755358 595963.36421018 204116.56714218 345053.30950573\n",
            " 863103.19382138 235634.11574599 307382.56814018 131685.43997088\n",
            " 755363.15675435 960221.93842723 398685.75134588 405601.8950297\n",
            " 190745.43607352 116198.51245981 271080.88419445 216797.90489414\n",
            "  13953.53870641 439245.1832392  286251.10496668 383753.02506838\n",
            " 711465.23421319 149367.91862869 257963.642606   218652.13305937\n",
            " 231136.92916264 150821.99703495 413612.88463308 107488.55017004\n",
            " 604130.25968073 168605.57194668 261120.2198776  201113.9182433\n",
            " 347052.34920385 254377.89910573 270353.1444433  247438.03293382\n",
            " 415593.31449542 284496.94554981]\n",
            "train accuracy(train) : 0.434\n",
            "RMSE : 201219.180\n"
          ]
        },
        {
          "output_type": "stream",
          "name": "stderr",
          "text": [
            "/usr/local/lib/python3.8/dist-packages/sklearn/neural_network/_multilayer_perceptron.py:692: ConvergenceWarning: Stochastic Optimizer: Maximum iterations (2000) reached and the optimization hasn't converged yet.\n",
            "  warnings.warn(\n"
          ]
        }
      ]
    },
    {
      "cell_type": "markdown",
      "source": [
        "#딥러닝"
      ],
      "metadata": {
        "id": "NzVDV4DJuK16"
      }
    },
    {
      "cell_type": "markdown",
      "source": [
        "####경고문 제거"
      ],
      "metadata": {
        "id": "jbm8-LJquNZ-"
      }
    },
    {
      "cell_type": "code",
      "source": [
        "import warnings\n",
        "warnings.filterwarnings(\"ignore\")"
      ],
      "metadata": {
        "id": "R-71asgruKjI"
      },
      "execution_count": null,
      "outputs": []
    },
    {
      "cell_type": "markdown",
      "source": [
        "###DNN(Deep learning:Deep Neural Network)"
      ],
      "metadata": {
        "id": "-uzkvjxGubsA"
      }
    },
    {
      "cell_type": "markdown",
      "source": [
        "#####분류예측"
      ],
      "metadata": {
        "id": "9TSMsMfzvVPW"
      }
    },
    {
      "cell_type": "code",
      "source": [
        "#1.변수선택\n",
        "X = df[['총매출액','구매금액대','1회 평균매출액','평균 구매주기','거래기간']]\n",
        "Y = df[\"할인민감여부\"]\n",
        "\n",
        "#2.train - test split\n",
        "X_train, X_test, Y_train, Y_test = train_test_split(X, Y, test_size=0.3, random_state=0)\n",
        "\n",
        "#3. 데이터 전처리(preprocessing)\n",
        "ct = ColumnTransformer([('scaling', StandardScaler(), ['총매출액','1회 평균매출액','평균 구매주기','거래기간']),\n",
        "                        ('onehot', OneHotEncoder(sparse=False), [\"구매금액대\"])])\n",
        "\n",
        "ct.fit(X_train)\n",
        "X_train = ct.transform(X_train)\n",
        "X_test = ct.transform(X_test)\n",
        "\n",
        "#4. 오버샘플링\n",
        "smote = SMOTE(random_state = 0)\n",
        "X_train, Y_train = smote.fit_resample(X_train, Y_train)"
      ],
      "metadata": {
        "id": "H7nv7lkyuIod"
      },
      "execution_count": null,
      "outputs": []
    },
    {
      "cell_type": "code",
      "source": [
        "from IPython.core import history\n",
        "from keras.layers.attention.multi_head_attention import activation\n",
        "import keras\n",
        "import tensorflow as tf\n",
        "\n",
        "from keras.models import Sequential\n",
        "from keras.layers import Dense, Activation\n",
        "from keras.metrics import Accuracy\n",
        "\n",
        "#5.시드값 설정 : 시작점\n",
        "np.random.seed(0)\n",
        "tf.random.set_seed(0)\n",
        "\n",
        "#6. 모형생성\n",
        "model = keras.models.Sequential()\n",
        "model.add(keras.layers.Dense(64, input_dim=7, activation = \"relu\"))#Dense:밀도\n",
        "model.add(keras.layers.Dense(64, activation = \"relu\"))\n",
        "model.add(keras.layers.Dense(1, activation = \"sigmoid\"))\n",
        "\n",
        "#7. 모형 학습\n",
        "model.compile(loss = \"binary_crossentropy\", optimizer = \"adam\", metrics = [\"accuracy\"])\n",
        "history = model.fit(X_train, Y_train, validation_split=0.2, epochs = 10,\n",
        "                    batch_size=64, verbose=2)#epochs 시도횟수"
      ],
      "metadata": {
        "id": "Hd5z_pbrutZT",
        "colab": {
          "base_uri": "https://localhost:8080/"
        },
        "outputId": "81cb1c8a-d675-4226-bf7e-dff3860e0234"
      },
      "execution_count": null,
      "outputs": [
        {
          "output_type": "stream",
          "name": "stdout",
          "text": [
            "Epoch 1/10\n",
            "11/11 - 1s - loss: 0.6829 - accuracy: 0.5888 - val_loss: 0.6856 - val_accuracy: 0.6529 - 920ms/epoch - 84ms/step\n",
            "Epoch 2/10\n",
            "11/11 - 0s - loss: 0.5836 - accuracy: 0.8254 - val_loss: 0.6330 - val_accuracy: 0.6471 - 53ms/epoch - 5ms/step\n",
            "Epoch 3/10\n",
            "11/11 - 0s - loss: 0.5174 - accuracy: 0.8284 - val_loss: 0.6003 - val_accuracy: 0.6765 - 51ms/epoch - 5ms/step\n",
            "Epoch 4/10\n",
            "11/11 - 0s - loss: 0.4679 - accuracy: 0.8328 - val_loss: 0.5588 - val_accuracy: 0.7353 - 66ms/epoch - 6ms/step\n",
            "Epoch 5/10\n",
            "11/11 - 0s - loss: 0.4343 - accuracy: 0.8595 - val_loss: 0.5102 - val_accuracy: 0.8118 - 60ms/epoch - 5ms/step\n",
            "Epoch 6/10\n",
            "11/11 - 0s - loss: 0.4104 - accuracy: 0.8624 - val_loss: 0.5205 - val_accuracy: 0.7882 - 52ms/epoch - 5ms/step\n",
            "Epoch 7/10\n",
            "11/11 - 0s - loss: 0.3902 - accuracy: 0.8713 - val_loss: 0.4881 - val_accuracy: 0.8235 - 54ms/epoch - 5ms/step\n",
            "Epoch 8/10\n",
            "11/11 - 0s - loss: 0.3756 - accuracy: 0.8802 - val_loss: 0.4970 - val_accuracy: 0.8176 - 65ms/epoch - 6ms/step\n",
            "Epoch 9/10\n",
            "11/11 - 0s - loss: 0.3606 - accuracy: 0.8905 - val_loss: 0.4988 - val_accuracy: 0.8235 - 64ms/epoch - 6ms/step\n",
            "Epoch 10/10\n",
            "11/11 - 0s - loss: 0.3481 - accuracy: 0.8876 - val_loss: 0.4776 - val_accuracy: 0.8412 - 53ms/epoch - 5ms/step\n"
          ]
        }
      ]
    },
    {
      "cell_type": "code",
      "source": [
        "import matplotlib.pyplot as plt\n",
        "\n",
        "fig, loss_ax = plt.subplots()\n",
        "acc_ax = loss_ax.twinx()\n",
        "\n",
        "#loss(오차) 그리기\n",
        "loss_ax.plot(history.history[\"loss\"], \"y\", label = \"train loss\")\n",
        "loss_ax.plot(history.history[\"val_loss\"], \"r\", label = \"val loss\")\n",
        "loss_ax.set_xlabel(\"epoch\")\n",
        "loss_ax.set_ylabel(\"loss\")\n",
        "loss_ax.legend(loc = \"lower right\")\n",
        "\n",
        "#accuracy(정확도) 그리기\n",
        "acc_ax.plot(history.history[\"accuracy\"], \"b\", label = \"train acc\")\n",
        "acc_ax.plot(history.history[\"val_accuracy\"], \"g\", label = \"val acc\")\n",
        "acc_ax.set_ylabel(\"accuracy\")\n",
        "acc_ax.legend(loc = \"upper right\")\n",
        "\n",
        "plt.show()"
      ],
      "metadata": {
        "colab": {
          "base_uri": "https://localhost:8080/",
          "height": 282
        },
        "id": "mzsPJ8TO4dZ9",
        "outputId": "2b6ac2b1-e85f-4057-f36e-04cb158e776c"
      },
      "execution_count": null,
      "outputs": [
        {
          "output_type": "display_data",
          "data": {
            "text/plain": [
              "<Figure size 432x288 with 2 Axes>"
            ],
            "image/png": "[encoded data removed]"
          },
          "metadata": {
            "needs_background": "light"
          }
        }
      ]
    },
    {
      "cell_type": "code",
      "source": [
        "model.fit(X_train, Y_train, validation_split=0.2, epochs = 20,\n",
        "                    batch_size=64, verbose=2)#epochs 시도횟수"
      ],
      "metadata": {
        "id": "fn2DLyfA4zHf",
        "colab": {
          "base_uri": "https://localhost:8080/"
        },
        "outputId": "bb073d45-63d6-423f-91a4-841a1e505f18"
      },
      "execution_count": null,
      "outputs": [
        {
          "output_type": "stream",
          "name": "stdout",
          "text": [
            "Epoch 1/20\n",
            "11/11 - 0s - loss: 0.3350 - accuracy: 0.9024 - val_loss: 0.5079 - val_accuracy: 0.8235 - 104ms/epoch - 9ms/step\n",
            "Epoch 2/20\n",
            "11/11 - 0s - loss: 0.3229 - accuracy: 0.8979 - val_loss: 0.4585 - val_accuracy: 0.8529 - 71ms/epoch - 6ms/step\n",
            "Epoch 3/20\n",
            "11/11 - 0s - loss: 0.3112 - accuracy: 0.9024 - val_loss: 0.4993 - val_accuracy: 0.8412 - 51ms/epoch - 5ms/step\n",
            "Epoch 4/20\n",
            "11/11 - 0s - loss: 0.3013 - accuracy: 0.9068 - val_loss: 0.4722 - val_accuracy: 0.8529 - 79ms/epoch - 7ms/step\n",
            "Epoch 5/20\n",
            "11/11 - 0s - loss: 0.2926 - accuracy: 0.9068 - val_loss: 0.4845 - val_accuracy: 0.8529 - 57ms/epoch - 5ms/step\n",
            "Epoch 6/20\n",
            "11/11 - 0s - loss: 0.2869 - accuracy: 0.9186 - val_loss: 0.4972 - val_accuracy: 0.8529 - 65ms/epoch - 6ms/step\n",
            "Epoch 7/20\n",
            "11/11 - 0s - loss: 0.2787 - accuracy: 0.9142 - val_loss: 0.4690 - val_accuracy: 0.8529 - 56ms/epoch - 5ms/step\n",
            "Epoch 8/20\n",
            "11/11 - 0s - loss: 0.2733 - accuracy: 0.9201 - val_loss: 0.5033 - val_accuracy: 0.8529 - 56ms/epoch - 5ms/step\n",
            "Epoch 9/20\n",
            "11/11 - 0s - loss: 0.2668 - accuracy: 0.9201 - val_loss: 0.4770 - val_accuracy: 0.8588 - 78ms/epoch - 7ms/step\n",
            "Epoch 10/20\n",
            "11/11 - 0s - loss: 0.2629 - accuracy: 0.9157 - val_loss: 0.4851 - val_accuracy: 0.8529 - 58ms/epoch - 5ms/step\n",
            "Epoch 11/20\n",
            "11/11 - 0s - loss: 0.2603 - accuracy: 0.9216 - val_loss: 0.5014 - val_accuracy: 0.8588 - 55ms/epoch - 5ms/step\n",
            "Epoch 12/20\n",
            "11/11 - 0s - loss: 0.2556 - accuracy: 0.9186 - val_loss: 0.4628 - val_accuracy: 0.8529 - 81ms/epoch - 7ms/step\n",
            "Epoch 13/20\n",
            "11/11 - 0s - loss: 0.2513 - accuracy: 0.9201 - val_loss: 0.4805 - val_accuracy: 0.8588 - 56ms/epoch - 5ms/step\n",
            "Epoch 14/20\n",
            "11/11 - 0s - loss: 0.2486 - accuracy: 0.9246 - val_loss: 0.4825 - val_accuracy: 0.8588 - 54ms/epoch - 5ms/step\n",
            "Epoch 15/20\n",
            "11/11 - 0s - loss: 0.2455 - accuracy: 0.9231 - val_loss: 0.4779 - val_accuracy: 0.8588 - 70ms/epoch - 6ms/step\n",
            "Epoch 16/20\n",
            "11/11 - 0s - loss: 0.2433 - accuracy: 0.9231 - val_loss: 0.4692 - val_accuracy: 0.8588 - 53ms/epoch - 5ms/step\n",
            "Epoch 17/20\n",
            "11/11 - 0s - loss: 0.2420 - accuracy: 0.9201 - val_loss: 0.4665 - val_accuracy: 0.8588 - 60ms/epoch - 5ms/step\n",
            "Epoch 18/20\n",
            "11/11 - 0s - loss: 0.2390 - accuracy: 0.9275 - val_loss: 0.4809 - val_accuracy: 0.8529 - 82ms/epoch - 7ms/step\n",
            "Epoch 19/20\n",
            "11/11 - 0s - loss: 0.2350 - accuracy: 0.9172 - val_loss: 0.4545 - val_accuracy: 0.8588 - 55ms/epoch - 5ms/step\n",
            "Epoch 20/20\n",
            "11/11 - 0s - loss: 0.2335 - accuracy: 0.9260 - val_loss: 0.4819 - val_accuracy: 0.8529 - 58ms/epoch - 5ms/step\n"
          ]
        },
        {
          "output_type": "execute_result",
          "data": {
            "text/plain": [
              "<keras.callbacks.History at 0x7f5d58846430>"
            ]
          },
          "metadata": {},
          "execution_count": 12
        }
      ]
    },
    {
      "cell_type": "code",
      "source": [
        "Y_pred = model.predict(X_test, verbose = 0)\n",
        "Y_class = np.round(Y_pred, 0) #소수점 자리 조정\n",
        "train_score = model.evaluate(X_train, Y_train, verbose=0)\n",
        "test_score = model.evaluate(X_test, Y_test, verbose=0)\n",
        "print(\"Y 예측값 확률 : \\n\", Y_pred[:5])\n",
        "print(\"Y 예측 클래스 : \\n\", Y_class[:5])\n",
        "print(\"train accuracy : {:.3f}\".format(train_score[0], train_score[1]))\n",
        "print(\"test accuracy : {:.3f}\".format(test_score[0], test_score[1]))"
      ],
      "metadata": {
        "colab": {
          "base_uri": "https://localhost:8080/"
        },
        "id": "oQuBfaf57pGx",
        "outputId": "2e5bdddd-0b64-4e9d-c736-6b10089e2823"
      },
      "execution_count": null,
      "outputs": [
        {
          "output_type": "stream",
          "name": "stdout",
          "text": [
            "Y 예측값 확률 : \n",
            " [[0.7301536 ]\n",
            " [0.99965626]\n",
            " [0.11943636]\n",
            " [0.2225833 ]\n",
            " [0.8344958 ]]\n",
            "Y 예측 클래스 : \n",
            " [[1.]\n",
            " [1.]\n",
            " [0.]\n",
            " [0.]\n",
            " [1.]]\n",
            "train accuracy : 0.281\n",
            "test accuracy : 0.272\n"
          ]
        }
      ]
    },
    {
      "cell_type": "markdown",
      "source": [
        "#회귀예측"
      ],
      "metadata": {
        "id": "ezNKdq9VVPz2"
      }
    },
    {
      "cell_type": "code",
      "source": [
        "df"
      ],
      "metadata": {
        "colab": {
          "base_uri": "https://localhost:8080/",
          "height": 572
        },
        "id": "YZ57WyREWI-Y",
        "outputId": "25895121-2a1a-44b1-e24b-ecfbd95ca0db"
      },
      "execution_count": null,
      "outputs": [
        {
          "output_type": "execute_result",
          "data": {
            "text/plain": [
              "     고객ID  이탈여부      총매출액  구매금액대  방문빈도  1회 평균매출액  할인권 사용 횟수  총 할인 금액  고객등급  \\\n",
              "0       1     1   4963160      1    22    225598          1     5445     1   \n",
              "1       2     1   2271520      0    38     59777         22   350995     1   \n",
              "2       3     1   2484250      0     2   1242125          6   186045     1   \n",
              "3       4     1   2778850      0     9    308761          1     5195     2   \n",
              "4       5     1   4437610      1    10    443761          9   246350     2   \n",
              "..    ...   ...       ...    ...   ...       ...        ...      ...   ...   \n",
              "995   996     0  12731560      2    35    363759          3    44445     2   \n",
              "996   997     0   3419010      0     6    569835          6   186545     1   \n",
              "997   998     0   4612100      1    13    354777          8   260700     2   \n",
              "998   999     0   5165360      1    28    184477         20   347700     1   \n",
              "999  1000     0   4323050      1    16    270191         19   367045     2   \n",
              "\n",
              "     구매유형  ...  구매카테고리수  거주지역  성별  고객 나이대  거래기간  할인민감여부  Recency  Frequency  \\\n",
              "0       3  ...        7     6   1       6  3303       0        3          2   \n",
              "1       1  ...        5     4   0       2  3129       0        5          3   \n",
              "2       2  ...        4     6   0       3  3636       0        4          1   \n",
              "3       4  ...        4     5   0       4  3637       0        7          4   \n",
              "4       4  ...        6     6   0       4  3638       0        5          1   \n",
              "..    ...  ...      ...   ...  ..     ...   ...     ...      ...        ...   \n",
              "995     3  ...        8     6   0       4  4629       1        3          3   \n",
              "996     2  ...        9     6   0       4  4630       1        7          3   \n",
              "997     1  ...        1     4   1       6  4631       1        2          1   \n",
              "998     3  ...        7     5   1       6  3907       0        7          2   \n",
              "999     4  ...        6     5   1       6  2118       0        5          1   \n",
              "\n",
              "     Monetary      평균 구매주기  \n",
              "0           1   149.136364  \n",
              "1           4    81.342105  \n",
              "2           4  1817.000000  \n",
              "3           6   403.111111  \n",
              "4           4   362.800000  \n",
              "..        ...          ...  \n",
              "995         1   131.257143  \n",
              "996         6   770.666667  \n",
              "997         2   355.230769  \n",
              "998         6   138.535714  \n",
              "999         4   131.375000  \n",
              "\n",
              "[1000 rows x 21 columns]"
            ],
            "text/html": [
              "\n",
              "  <div id=\"df-f0d6f9d7-e198-4697-bec8-45c0e99f4439\">\n",
              "    <div class=\"colab-df-container\">\n",
              "      <div>\n",
              "<style scoped>\n",
              "    .dataframe tbody tr th:only-of-type {\n",
              "        vertical-align: middle;\n",
              "    }\n",
              "\n",
              "    .dataframe tbody tr th {\n",
              "        vertical-align: top;\n",
              "    }\n",
              "\n",
              "    .dataframe thead th {\n",
              "        text-align: right;\n",
              "    }\n",
              "</style>\n",
              "<table border=\"1\" class=\"dataframe\">\n",
              "  <thead>\n",
              "    <tr style=\"text-align: right;\">\n",
              "      <th></th>\n",
              "      <th>고객ID</th>\n",
              "      <th>이탈여부</th>\n",
              "      <th>총매출액</th>\n",
              "      <th>구매금액대</th>\n",
              "      <th>방문빈도</th>\n",
              "      <th>1회 평균매출액</th>\n",
              "      <th>할인권 사용 횟수</th>\n",
              "      <th>총 할인 금액</th>\n",
              "      <th>고객등급</th>\n",
              "      <th>구매유형</th>\n",
              "      <th>...</th>\n",
              "      <th>구매카테고리수</th>\n",
              "      <th>거주지역</th>\n",
              "      <th>성별</th>\n",
              "      <th>고객 나이대</th>\n",
              "      <th>거래기간</th>\n",
              "      <th>할인민감여부</th>\n",
              "      <th>Recency</th>\n",
              "      <th>Frequency</th>\n",
              "      <th>Monetary</th>\n",
              "      <th>평균 구매주기</th>\n",
              "    </tr>\n",
              "  </thead>\n",
              "  <tbody>\n",
              "    <tr>\n",
              "      <th>0</th>\n",
              "      <td>1</td>\n",
              "      <td>1</td>\n",
              "      <td>4963160</td>\n",
              "      <td>1</td>\n",
              "      <td>22</td>\n",
              "      <td>225598</td>\n",
              "      <td>1</td>\n",
              "      <td>5445</td>\n",
              "      <td>1</td>\n",
              "      <td>3</td>\n",
              "      <td>...</td>\n",
              "      <td>7</td>\n",
              "      <td>6</td>\n",
              "      <td>1</td>\n",
              "      <td>6</td>\n",
              "      <td>3303</td>\n",
              "      <td>0</td>\n",
              "      <td>3</td>\n",
              "      <td>2</td>\n",
              "      <td>1</td>\n",
              "      <td>149.136364</td>\n",
              "    </tr>\n",
              "    <tr>\n",
              "      <th>1</th>\n",
              "      <td>2</td>\n",
              "      <td>1</td>\n",
              "      <td>2271520</td>\n",
              "      <td>0</td>\n",
              "      <td>38</td>\n",
              "      <td>59777</td>\n",
              "      <td>22</td>\n",
              "      <td>350995</td>\n",
              "      <td>1</td>\n",
              "      <td>1</td>\n",
              "      <td>...</td>\n",
              "      <td>5</td>\n",
              "      <td>4</td>\n",
              "      <td>0</td>\n",
              "      <td>2</td>\n",
              "      <td>3129</td>\n",
              "      <td>0</td>\n",
              "      <td>5</td>\n",
              "      <td>3</td>\n",
              "      <td>4</td>\n",
              "      <td>81.342105</td>\n",
              "    </tr>\n",
              "    <tr>\n",
              "      <th>2</th>\n",
              "      <td>3</td>\n",
              "      <td>1</td>\n",
              "      <td>2484250</td>\n",
              "      <td>0</td>\n",
              "      <td>2</td>\n",
              "      <td>1242125</td>\n",
              "      <td>6</td>\n",
              "      <td>186045</td>\n",
              "      <td>1</td>\n",
              "      <td>2</td>\n",
              "      <td>...</td>\n",
              "      <td>4</td>\n",
              "      <td>6</td>\n",
              "      <td>0</td>\n",
              "      <td>3</td>\n",
              "      <td>3636</td>\n",
              "      <td>0</td>\n",
              "      <td>4</td>\n",
              "      <td>1</td>\n",
              "      <td>4</td>\n",
              "      <td>1817.000000</td>\n",
              "    </tr>\n",
              "    <tr>\n",
              "      <th>3</th>\n",
              "      <td>4</td>\n",
              "      <td>1</td>\n",
              "      <td>2778850</td>\n",
              "      <td>0</td>\n",
              "      <td>9</td>\n",
              "      <td>308761</td>\n",
              "      <td>1</td>\n",
              "      <td>5195</td>\n",
              "      <td>2</td>\n",
              "      <td>4</td>\n",
              "      <td>...</td>\n",
              "      <td>4</td>\n",
              "      <td>5</td>\n",
              "      <td>0</td>\n",
              "      <td>4</td>\n",
              "      <td>3637</td>\n",
              "      <td>0</td>\n",
              "      <td>7</td>\n",
              "      <td>4</td>\n",
              "      <td>6</td>\n",
              "      <td>403.111111</td>\n",
              "    </tr>\n",
              "    <tr>\n",
              "      <th>4</th>\n",
              "      <td>5</td>\n",
              "      <td>1</td>\n",
              "      <td>4437610</td>\n",
              "      <td>1</td>\n",
              "      <td>10</td>\n",
              "      <td>443761</td>\n",
              "      <td>9</td>\n",
              "      <td>246350</td>\n",
              "      <td>2</td>\n",
              "      <td>4</td>\n",
              "      <td>...</td>\n",
              "      <td>6</td>\n",
              "      <td>6</td>\n",
              "      <td>0</td>\n",
              "      <td>4</td>\n",
              "      <td>3638</td>\n",
              "      <td>0</td>\n",
              "      <td>5</td>\n",
              "      <td>1</td>\n",
              "      <td>4</td>\n",
              "      <td>362.800000</td>\n",
              "    </tr>\n",
              "    <tr>\n",
              "      <th>...</th>\n",
              "      <td>...</td>\n",
              "      <td>...</td>\n",
              "      <td>...</td>\n",
              "      <td>...</td>\n",
              "      <td>...</td>\n",
              "      <td>...</td>\n",
              "      <td>...</td>\n",
              "      <td>...</td>\n",
              "      <td>...</td>\n",
              "      <td>...</td>\n",
              "      <td>...</td>\n",
              "      <td>...</td>\n",
              "      <td>...</td>\n",
              "      <td>...</td>\n",
              "      <td>...</td>\n",
              "      <td>...</td>\n",
              "      <td>...</td>\n",
              "      <td>...</td>\n",
              "      <td>...</td>\n",
              "      <td>...</td>\n",
              "      <td>...</td>\n",
              "    </tr>\n",
              "    <tr>\n",
              "      <th>995</th>\n",
              "      <td>996</td>\n",
              "      <td>0</td>\n",
              "      <td>12731560</td>\n",
              "      <td>2</td>\n",
              "      <td>35</td>\n",
              "      <td>363759</td>\n",
              "      <td>3</td>\n",
              "      <td>44445</td>\n",
              "      <td>2</td>\n",
              "      <td>3</td>\n",
              "      <td>...</td>\n",
              "      <td>8</td>\n",
              "      <td>6</td>\n",
              "      <td>0</td>\n",
              "      <td>4</td>\n",
              "      <td>4629</td>\n",
              "      <td>1</td>\n",
              "      <td>3</td>\n",
              "      <td>3</td>\n",
              "      <td>1</td>\n",
              "      <td>131.257143</td>\n",
              "    </tr>\n",
              "    <tr>\n",
              "      <th>996</th>\n",
              "      <td>997</td>\n",
              "      <td>0</td>\n",
              "      <td>3419010</td>\n",
              "      <td>0</td>\n",
              "      <td>6</td>\n",
              "      <td>569835</td>\n",
              "      <td>6</td>\n",
              "      <td>186545</td>\n",
              "      <td>1</td>\n",
              "      <td>2</td>\n",
              "      <td>...</td>\n",
              "      <td>9</td>\n",
              "      <td>6</td>\n",
              "      <td>0</td>\n",
              "      <td>4</td>\n",
              "      <td>4630</td>\n",
              "      <td>1</td>\n",
              "      <td>7</td>\n",
              "      <td>3</td>\n",
              "      <td>6</td>\n",
              "      <td>770.666667</td>\n",
              "    </tr>\n",
              "    <tr>\n",
              "      <th>997</th>\n",
              "      <td>998</td>\n",
              "      <td>0</td>\n",
              "      <td>4612100</td>\n",
              "      <td>1</td>\n",
              "      <td>13</td>\n",
              "      <td>354777</td>\n",
              "      <td>8</td>\n",
              "      <td>260700</td>\n",
              "      <td>2</td>\n",
              "      <td>1</td>\n",
              "      <td>...</td>\n",
              "      <td>1</td>\n",
              "      <td>4</td>\n",
              "      <td>1</td>\n",
              "      <td>6</td>\n",
              "      <td>4631</td>\n",
              "      <td>1</td>\n",
              "      <td>2</td>\n",
              "      <td>1</td>\n",
              "      <td>2</td>\n",
              "      <td>355.230769</td>\n",
              "    </tr>\n",
              "    <tr>\n",
              "      <th>998</th>\n",
              "      <td>999</td>\n",
              "      <td>0</td>\n",
              "      <td>5165360</td>\n",
              "      <td>1</td>\n",
              "      <td>28</td>\n",
              "      <td>184477</td>\n",
              "      <td>20</td>\n",
              "      <td>347700</td>\n",
              "      <td>1</td>\n",
              "      <td>3</td>\n",
              "      <td>...</td>\n",
              "      <td>7</td>\n",
              "      <td>5</td>\n",
              "      <td>1</td>\n",
              "      <td>6</td>\n",
              "      <td>3907</td>\n",
              "      <td>0</td>\n",
              "      <td>7</td>\n",
              "      <td>2</td>\n",
              "      <td>6</td>\n",
              "      <td>138.535714</td>\n",
              "    </tr>\n",
              "    <tr>\n",
              "      <th>999</th>\n",
              "      <td>1000</td>\n",
              "      <td>0</td>\n",
              "      <td>4323050</td>\n",
              "      <td>1</td>\n",
              "      <td>16</td>\n",
              "      <td>270191</td>\n",
              "      <td>19</td>\n",
              "      <td>367045</td>\n",
              "      <td>2</td>\n",
              "      <td>4</td>\n",
              "      <td>...</td>\n",
              "      <td>6</td>\n",
              "      <td>5</td>\n",
              "      <td>1</td>\n",
              "      <td>6</td>\n",
              "      <td>2118</td>\n",
              "      <td>0</td>\n",
              "      <td>5</td>\n",
              "      <td>1</td>\n",
              "      <td>4</td>\n",
              "      <td>131.375000</td>\n",
              "    </tr>\n",
              "  </tbody>\n",
              "</table>\n",
              "<p>1000 rows × 21 columns</p>\n",
              "</div>\n",
              "      <button class=\"colab-df-convert\" onclick=\"convertToInteractive('df-f0d6f9d7-e198-4697-bec8-45c0e99f4439')\"\n",
              "              title=\"Convert this dataframe to an interactive table.\"\n",
              "              style=\"display:none;\">\n",
              "        \n",
              "  <svg xmlns=\"http://www.w3.org/2000/svg\" height=\"24px\"viewBox=\"0 0 24 24\"\n",
              "       width=\"24px\">\n",
              "    <path d=\"M0 0h24v24H0V0z\" fill=\"none\"/>\n",
              "    <path d=\"M18.56 5.44l.94 2.06.94-2.06 2.06-.94-2.06-.94-.94-2.06-.94 2.06-2.06.94zm-11 1L8.5 8.5l.94-2.06 2.06-.94-2.06-.94L8.5 2.5l-.94 2.06-2.06.94zm10 10l.94 2.06.94-2.06 2.06-.94-2.06-.94-.94-2.06-.94 2.06-2.06.94z\"/><path d=\"M17.41 7.96l-1.37-1.37c-.4-.4-.92-.59-1.43-.59-.52 0-1.04.2-1.43.59L10.3 9.45l-7.72 7.72c-.78.78-.78 2.05 0 2.83L4 21.41c.39.39.9.59 1.41.59.51 0 1.02-.2 1.41-.59l7.78-7.78 2.81-2.81c.8-.78.8-2.07 0-2.86zM5.41 20L4 18.59l7.72-7.72 1.47 1.35L5.41 20z\"/>\n",
              "  </svg>\n",
              "      </button>\n",
              "      \n",
              "  <style>\n",
              "    .colab-df-container {\n",
              "      display:flex;\n",
              "      flex-wrap:wrap;\n",
              "      gap: 12px;\n",
              "    }\n",
              "\n",
              "    .colab-df-convert {\n",
              "      background-color: #E8F0FE;\n",
              "      border: none;\n",
              "      border-radius: 50%;\n",
              "      cursor: pointer;\n",
              "      display: none;\n",
              "      fill: #1967D2;\n",
              "      height: 32px;\n",
              "      padding: 0 0 0 0;\n",
              "      width: 32px;\n",
              "    }\n",
              "\n",
              "    .colab-df-convert:hover {\n",
              "      background-color: #E2EBFA;\n",
              "      box-shadow: 0px 1px 2px rgba(60, 64, 67, 0.3), 0px 1px 3px 1px rgba(60, 64, 67, 0.15);\n",
              "      fill: #174EA6;\n",
              "    }\n",
              "\n",
              "    [theme=dark] .colab-df-convert {\n",
              "      background-color: #3B4455;\n",
              "      fill: #D2E3FC;\n",
              "    }\n",
              "\n",
              "    [theme=dark] .colab-df-convert:hover {\n",
              "      background-color: #434B5C;\n",
              "      box-shadow: 0px 1px 3px 1px rgba(0, 0, 0, 0.15);\n",
              "      filter: drop-shadow(0px 1px 2px rgba(0, 0, 0, 0.3));\n",
              "      fill: #FFFFFF;\n",
              "    }\n",
              "  </style>\n",
              "\n",
              "      <script>\n",
              "        const buttonEl =\n",
              "          document.querySelector('#df-f0d6f9d7-e198-4697-bec8-45c0e99f4439 button.colab-df-convert');\n",
              "        buttonEl.style.display =\n",
              "          google.colab.kernel.accessAllowed ? 'block' : 'none';\n",
              "\n",
              "        async function convertToInteractive(key) {\n",
              "          const element = document.querySelector('#df-f0d6f9d7-e198-4697-bec8-45c0e99f4439');\n",
              "          const dataTable =\n",
              "            await google.colab.kernel.invokeFunction('convertToInteractive',\n",
              "                                                     [key], {});\n",
              "          if (!dataTable) return;\n",
              "\n",
              "          const docLinkHtml = 'Like what you see? Visit the ' +\n",
              "            '<a target=\"_blank\" href=https://colab.research.google.com/notebooks/data_table.ipynb>data table notebook</a>'\n",
              "            + ' to learn more about interactive tables.';\n",
              "          element.innerHTML = '';\n",
              "          dataTable['output_type'] = 'display_data';\n",
              "          await google.colab.output.renderOutput(dataTable, element);\n",
              "          const docLink = document.createElement('div');\n",
              "          docLink.innerHTML = docLinkHtml;\n",
              "          element.appendChild(docLink);\n",
              "        }\n",
              "      </script>\n",
              "    </div>\n",
              "  </div>\n",
              "  "
            ]
          },
          "metadata": {},
          "execution_count": 16
        }
      ]
    },
    {
      "cell_type": "code",
      "source": [
        "import numpy as np\n"
      ],
      "metadata": {
        "id": "3fLF4AIoWeUw"
      },
      "execution_count": null,
      "outputs": []
    },
    {
      "cell_type": "code",
      "source": [
        "#1. 데이터\n",
        "X = df[df.이탈여부 == 0][['방문빈도', '총 할인 금액', '구매카테고리수', '거래기간']]\n",
        "Y = np.log1p(df[df.이탈여부 == 0][\"1회 평균매출액\"])"
      ],
      "metadata": {
        "id": "xa-M5RvH73Vk"
      },
      "execution_count": null,
      "outputs": []
    },
    {
      "cell_type": "code",
      "source": [
        "\n",
        "\n",
        "#2.train - test split\n",
        "X_train, X_test, Y_train, Y_test = train_test_split(X, Y, test_size=0.3, random_state=0)\n",
        "\n",
        "#3. 데이터 전처리(preprocessing)\n",
        "scaler = StandardScaler().fit(X_train)\n",
        "X_train = scaler.transform(X_train)\n",
        "X_test = scaler.transform(X_test)\n",
        "\n",
        "#4. seed 값 설정\n",
        "np.random.seed(0)\n",
        "tf.random.set_seed(0)\n",
        "\n",
        "#5. 모형생성\n",
        "model = keras.models.Sequential()\n",
        "model.add(keras.layers.Dense(64, input_dim=4, activation = \"relu\"))#Dense:밀도 X수에 따라 input_dim수치가 바껴야함\n",
        "model.add(keras.layers.Dense(64, activation = \"relu\"))\n",
        "model.add(keras.layers.Dense(64, activation = \"relu\")) #activation줄이면서 오차를 줄여나가면됨\n",
        "\n",
        "#6. 모형 학습\n",
        "model.compile(loss = \"mse\", optimizer = \"SGD\")#옵티마이저 가장 오차율이 적은 지점을 찾아주는\n",
        "Y_pred = np.round(model.predict(X_test[:5], verbose=1), 3)\n",
        "print(\"Y predict value \\n\", Y_pred)\n",
        "\n",
        "#7. 모형 평가\n",
        "train_score = model.evaluate(X_train, Y_train, verbose=0)\n",
        "test_score = model.evaluate(X_test, Y_test, verbose=0)\n",
        "print(\"train mse : {:.3f}\".format(train_score))\n",
        "print(\"test mse : {:.3f}\".format(test_score))\n",
        "#확률적 경사 하강법:SGD "
      ],
      "metadata": {
        "colab": {
          "base_uri": "https://localhost:8080/"
        },
        "id": "COfXLfkQVtD7",
        "outputId": "430ecdc5-4731-43f8-b064-e16538b5d790"
      },
      "execution_count": null,
      "outputs": [
        {
          "output_type": "stream",
          "name": "stderr",
          "text": [
            "WARNING:tensorflow:6 out of the last 15 calls to <function Model.make_predict_function.<locals>.predict_function at 0x7f5d57b2b040> triggered tf.function retracing. Tracing is expensive and the excessive number of tracings could be due to (1) creating @tf.function repeatedly in a loop, (2) passing tensors with different shapes, (3) passing Python objects instead of tensors. For (1), please define your @tf.function outside of the loop. For (2), @tf.function has reduce_retracing=True option that can avoid unnecessary retracing. For (3), please refer to https://www.tensorflow.org/guide/function#controlling_retracing and https://www.tensorflow.org/api_docs/python/tf/function for  more details.\n"
          ]
        },
        {
          "output_type": "stream",
          "name": "stdout",
          "text": [
            "1/1 [==============================] - 0s 71ms/step\n",
            "Y predict value \n",
            " [[0.    0.    0.    0.234 0.    0.163 0.052 0.    0.    0.    0.    0.32\n",
            "  0.013 0.    0.218 0.009 0.111 0.    0.182 0.    0.    0.    0.474 0.143\n",
            "  0.    0.    0.    0.    0.    0.    0.325 0.    0.    0.224 0.    0.098\n",
            "  0.115 0.    0.    0.055 0.    0.    0.    0.    0.    0.    0.    0.\n",
            "  0.    0.322 0.12  0.098 0.    0.336 0.142 0.    0.    0.394 0.    0.498\n",
            "  0.    0.    0.182 0.   ]\n",
            " [0.    0.    0.    0.002 0.    0.134 0.114 0.    0.109 0.    0.    0.058\n",
            "  0.061 0.043 0.042 0.027 0.06  0.097 0.114 0.    0.    0.001 0.14  0.\n",
            "  0.081 0.017 0.    0.034 0.    0.    0.012 0.009 0.    0.045 0.    0.039\n",
            "  0.    0.    0.    0.109 0.    0.009 0.004 0.    0.    0.    0.    0.\n",
            "  0.059 0.097 0.074 0.026 0.    0.014 0.184 0.    0.002 0.061 0.075 0.146\n",
            "  0.    0.    0.289 0.   ]\n",
            " [0.    0.    0.079 0.012 0.    0.056 0.061 0.    0.175 0.    0.089 0.14\n",
            "  0.002 0.    0.254 0.04  0.094 0.183 0.181 0.    0.058 0.    0.385 0.058\n",
            "  0.    0.    0.    0.057 0.    0.    0.144 0.051 0.07  0.104 0.023 0.032\n",
            "  0.036 0.    0.    0.162 0.    0.    0.    0.    0.    0.    0.    0.\n",
            "  0.054 0.124 0.055 0.014 0.    0.081 0.055 0.    0.057 0.15  0.048 0.408\n",
            "  0.    0.    0.363 0.   ]\n",
            " [0.    0.002 0.    0.121 0.    0.06  0.097 0.115 0.    0.    0.232 0.095\n",
            "  0.    0.    0.11  0.    0.147 0.153 0.168 0.    0.    0.    0.268 0.204\n",
            "  0.    0.    0.    0.    0.    0.    0.448 0.    0.    0.254 0.    0.075\n",
            "  0.214 0.    0.    0.004 0.043 0.    0.024 0.    0.    0.    0.036 0.\n",
            "  0.    0.219 0.    0.2   0.    0.357 0.169 0.    0.134 0.232 0.016 0.495\n",
            "  0.    0.    0.222 0.   ]\n",
            " [0.    0.    0.    0.024 0.018 0.053 0.087 0.088 0.054 0.    0.102 0.003\n",
            "  0.    0.    0.068 0.    0.    0.145 0.005 0.    0.    0.    0.111 0.075\n",
            "  0.    0.096 0.    0.    0.    0.    0.013 0.    0.    0.064 0.    0.094\n",
            "  0.166 0.    0.    0.    0.    0.    0.    0.    0.014 0.    0.06  0.\n",
            "  0.    0.132 0.    0.171 0.    0.028 0.094 0.    0.    0.    0.    0.068\n",
            "  0.    0.    0.053 0.   ]]\n",
            "train mse : 152.833\n",
            "test mse : 152.401\n"
          ]
        }
      ]
    },
    {
      "cell_type": "markdown",
      "source": [
        "#앙상블\n"
      ],
      "metadata": {
        "id": "ZzEJSBJ4hgxE"
      }
    },
    {
      "cell_type": "code",
      "source": [
        "#1.변수선택\n",
        "X = df[['총매출액','구매금액대','1회 평균매출액','평균 구매주기','거래기간']]\n",
        "Y = df[\"할인민감여부\"]\n",
        "\n",
        "#2.train - test split\n",
        "X_train, X_test, Y_train, Y_test = train_test_split(X, Y, test_size=0.3, random_state=0)\n",
        "\n",
        "#3. 데이터 전처리(preprocessing)\n",
        "ct = ColumnTransformer([('scaling', StandardScaler(), ['총매출액','1회 평균매출액','평균 구매주기','거래기간']),\n",
        "                        ('onehot', OneHotEncoder(sparse=False), [\"구매금액대\"])])\n",
        "\n",
        "ct.fit(X_train)\n",
        "X_train = ct.transform(X_train)\n",
        "X_test = ct.transform(X_test)\n",
        "\n",
        "#4. 오버샘플링\n",
        "smote = SMOTE(random_state = 0)\n",
        "X_train, Y_train = smote.fit_resample(X_train, Y_train)"
      ],
      "metadata": {
        "id": "q6JjwgwwdHmu"
      },
      "execution_count": null,
      "outputs": []
    },
    {
      "cell_type": "code",
      "source": [
        "#5. 단일모형 생성\n",
        "from sklearn.ensemble import VotingClassifier\n",
        "from sklearn.tree import DecisionTreeClassifier\n",
        "from sklearn.neighbors import KNeighborsClassifier\n",
        "\n",
        "dtree = DecisionTreeClassifier(random_state=0)\n",
        "knn = KNeighborsClassifier()\n",
        "\n",
        "#6. 앙상블 모형 생성\n",
        "model = VotingClassifier(estimators=[(\"K-NN\", knn), (\"Dtree\", dtree)], voting = \"soft\")\n",
        "\n",
        "#7. 모형학습\n",
        "model.fit(X_train, Y_train)\n",
        "\n",
        "#8. 예측 및 모형 성능 평가\n",
        "Y_pred = model.predict(X_test)\n",
        "print(\"Y predict value: \\n\", Y_pred)\n",
        "#8-1. 보팅모형 정확도\n",
        "print(\"voting classifier accuracy : {0:.3f}\".format(model.score(X_test, Y_test)))\n",
        "#8-2. 개별모형 정확도\n",
        "classifiers = [dtree, knn]\n",
        "for classifier in classifiers :\n",
        "    classifier.fit(X_train, Y_train)\n",
        "    class_name = classifier.__class__.__name__\n",
        "    print(\"{0} accuracy : {1:.3f}\".format(class_name, classifier.score(X_test, Y_test)))"
      ],
      "metadata": {
        "colab": {
          "base_uri": "https://localhost:8080/"
        },
        "id": "ybu4WKaOh1DX",
        "outputId": "3f2c67f0-0c6c-4af1-b268-e7ba11dbb9ae"
      },
      "execution_count": null,
      "outputs": [
        {
          "output_type": "stream",
          "name": "stdout",
          "text": [
            "Y predict value: \n",
            " [1 1 0 0 1 1 0 0 1 1 0 0 1 0 1 0 1 0 0 0 0 0 0 0 0 1 0 0 0 0 1 1 1 1 0 1 1\n",
            " 0 1 1 0 1 1 1 0 0 1 0 0 0 1 0 0 0 1 1 0 0 1 1 0 1 1 0 0 0 1 0 0 0 1 0 0 0\n",
            " 1 0 0 0 1 1 0 0 1 1 1 1 0 0 0 0 1 0 0 0 0 1 1 0 0 0 1 1 0 1 0 1 1 0 1 1 1\n",
            " 1 0 0 0 0 0 0 0 0 1 0 0 1 1 1 0 0 1 1 0 0 1 1 1 1 0 1 0 1 0 0 0 0 0 1 0 0\n",
            " 1 1 0 0 0 0 0 1 0 0 0 0 1 1 0 0 1 0 0 1 0 0 0 1 1 1 0 0 0 0 1 0 0 0 0 0 1\n",
            " 0 0 1 1 1 0 1 0 1 1 1 1 0 1 0 0 0 0 1 1 0 1 0 1 1 0 1 0 0 0 1 0 0 0 1 1 1\n",
            " 1 0 0 1 1 0 0 1 1 0 0 0 0 0 0 1 1 0 0 0 0 0 1 0 1 0 1 1 0 1 1 0 0 1 1 0 0\n",
            " 0 1 1 0 0 0 0 0 0 1 0 1 0 0 0 1 1 0 0 1 0 1 1 1 1 0 0 1 0 0 0 1 0 1 1 0 0\n",
            " 1 0 0 0]\n",
            "voting classifier accuracy : 0.907\n",
            "DecisionTreeClassifier accuracy : 0.900\n",
            "KNeighborsClassifier accuracy : 0.850\n"
          ]
        }
      ]
    },
    {
      "cell_type": "code",
      "source": [
        "import numpy as np\n",
        "\n",
        "#1.변수선택\n",
        "X = df[df.이탈여부 == 0][['방문빈도', '총 할인 금액', '고객등급', '구매유형', '거래기간', '할인민감여부', '평균 구매주기']]\n",
        "Y = np.log1p(df[df.이탈여부 == 0][\"1회 평균매출액\"])\n",
        "\n",
        "#2.train - test split\n",
        "X_train, X_test, Y_train, Y_test = train_test_split(X, Y, test_size=0.3, random_state=0)\n",
        "\n",
        "#3. 데이터 전처리(preprocessing)\n",
        "ct = ColumnTransformer([('scaling', StandardScaler(), ['방문빈도', '총 할인 금액', '거래기간', '평균 구매주기']),\n",
        "                        ('onehot', OneHotEncoder(sparse = False), ['고객등급', '구매유형', '할인민감여부'])])\n",
        "\n",
        "ct.fit(X_train)\n",
        "X_train = ct.transform(X_train)\n",
        "X_test = ct.transform(X_test)\n",
        "\n"
      ],
      "metadata": {
        "id": "5AYG34NwoH-_"
      },
      "execution_count": null,
      "outputs": []
    },
    {
      "cell_type": "code",
      "source": [
        "df.info()"
      ],
      "metadata": {
        "colab": {
          "base_uri": "https://localhost:8080/"
        },
        "id": "carVYnMYM7cw",
        "outputId": "56338578-01f1-4231-f751-20c4d1cf6c3a"
      },
      "execution_count": null,
      "outputs": [
        {
          "output_type": "stream",
          "name": "stdout",
          "text": [
            "<class 'pandas.core.frame.DataFrame'>\n",
            "RangeIndex: 1000 entries, 0 to 999\n",
            "Data columns (total 21 columns):\n",
            " #   Column     Non-Null Count  Dtype  \n",
            "---  ------     --------------  -----  \n",
            " 0   고객ID       1000 non-null   int64  \n",
            " 1   이탈여부       1000 non-null   int64  \n",
            " 2   총매출액       1000 non-null   int64  \n",
            " 3   구매금액대      1000 non-null   int64  \n",
            " 4   방문빈도       1000 non-null   int64  \n",
            " 5   1회 평균매출액   1000 non-null   int64  \n",
            " 6   할인권 사용 횟수  1000 non-null   int64  \n",
            " 7   총 할인 금액    1000 non-null   int64  \n",
            " 8   고객등급       1000 non-null   int64  \n",
            " 9   구매유형       1000 non-null   int64  \n",
            " 10  클레임접수여부    1000 non-null   int64  \n",
            " 11  구매카테고리수    1000 non-null   int64  \n",
            " 12  거주지역       1000 non-null   int64  \n",
            " 13  성별         1000 non-null   int64  \n",
            " 14  고객 나이대     1000 non-null   int64  \n",
            " 15  거래기간       1000 non-null   int64  \n",
            " 16  할인민감여부     1000 non-null   int64  \n",
            " 17  Recency    1000 non-null   int64  \n",
            " 18  Frequency  1000 non-null   int64  \n",
            " 19  Monetary   1000 non-null   int64  \n",
            " 20  평균 구매주기    1000 non-null   float64\n",
            "dtypes: float64(1), int64(20)\n",
            "memory usage: 164.2 KB\n"
          ]
        }
      ]
    },
    {
      "cell_type": "code",
      "source": [
        "#5. 단일모형 생성\n",
        "from sklearn.ensemble import VotingRegressor\n",
        "from sklearn.neural_network import MLPRegressor\n",
        "from sklearn.svm import SVR\n",
        "\n",
        "svr = SVR()\n",
        "mlp = MLPRegressor(random_state=0)\n",
        "\n",
        "#5. voting model 생성\n",
        "model = VotingRegressor(estimators=[(\"SVR\", svr), (\"MLP\", mlp)])\n",
        "\n",
        "#6. 모형 학습\n",
        "model.fit(X_train, Y_train)\n",
        "\n",
        "#7. 예측 및 평가\n",
        "Y_pred = model.predict(X_test)\n",
        "print(\"Y predict value \\n\", Y_pred)\n",
        "#8-1. 예측 보팅모형 정확도\n",
        "print(\"voting regressor accuracy : {0:.3f}\".format(model.score(X_test, Y_test)))\n",
        "#8-2. 개별모형 정확도\n",
        "Regressors = [svr, mlp]\n",
        "for Regressors in Regressors :\n",
        "    Regressors.fit(X_train, Y_train)\n",
        "    class_name = Regressors.__class__.__name__\n",
        "    print(\"{0} accuracy : {1:.3f}\".format(class_name, Regressors.score(X_test, Y_test)))"
      ],
      "metadata": {
        "colab": {
          "base_uri": "https://localhost:8080/"
        },
        "id": "4t6XaFyzoWy6",
        "outputId": "b6e57910-fb31-4064-df84-9b49732567fb"
      },
      "execution_count": null,
      "outputs": [
        {
          "output_type": "stream",
          "name": "stdout",
          "text": [
            "Y predict value \n",
            " [12.72637282 12.15785517 12.09686124 13.26831502 11.60231958 12.47233857\n",
            " 11.00403584 12.11236139 11.92418038 12.36295705 12.33471768 11.93634366\n",
            " 12.10248328 12.17485959 12.54047237 12.21174042 12.79796392 12.85868158\n",
            " 12.14723369 12.51820132 12.73655925 11.51053651 12.16572772 12.61967869\n",
            " 10.97450508 13.11252037 12.5792913  12.13627155 12.04792775 11.98604929\n",
            " 12.79524713 12.95793432 12.51574594 13.14826771 12.21608558 11.91077705\n",
            " 11.84798695 12.99567742 11.95362493 13.66455063 12.85068225 12.1427706\n",
            " 12.49680643 12.12413092 12.41795186 12.43119996 11.29956398 12.14660018\n",
            " 12.69704459 12.43998557 12.01109351 13.29011823 11.1046136  12.92296162\n",
            " 12.8522466  12.08692287 12.46809297 12.34155171 12.26251834 12.06954504\n",
            " 12.87142564 12.96736873 11.66603809 12.35227513 12.06159606 12.155967\n",
            " 12.10647664 11.48482286 12.69218789 11.79509489 12.20279207 11.67227129\n",
            " 11.93748831 11.75242257 12.08799173 12.79011812 12.43771399 12.93671652\n",
            " 12.21409548 12.39436336 12.71746922 11.95532413 11.82312984 12.16287274\n",
            " 12.28686047 12.69164266 12.44251859 12.77121709 11.83604445 12.83491032\n",
            " 12.14491251 13.21743021 12.50243799 13.06892645 11.92415719 13.03858984\n",
            " 12.88053564 12.160099   12.91472933 11.63221781 11.94370304 12.44004892\n",
            " 12.87464916 11.8729167  12.3654078  12.55856624 12.84071252 11.71225848\n",
            " 12.26380165 12.45982361 12.02043293 11.9421507  12.73253879 13.02635162\n",
            " 12.04973161 12.33438799 12.41827333 12.86241083 12.40875392 12.5968783\n",
            " 12.81779588 12.8274637  12.19010157 12.59904112 12.84774747 12.18532332\n",
            " 12.22778031 11.8054232  13.12475682 11.95865789 11.81489928 11.55897355\n",
            " 13.07522943 12.28451019 11.8789114  12.15561689 11.51884822 12.18398225\n",
            " 12.69227703 11.85075753 12.26168017 12.16159193 12.65547847 11.98416886\n",
            " 12.1825295  12.53395352 12.63117748 12.89234566 12.03663241 12.06490339\n",
            " 12.17004133 12.65506435 12.64528232 12.859696   13.98345371 11.56676754\n",
            " 12.14814582 12.76169623 12.08281248 12.78057339 12.92206256 12.64509877\n",
            " 12.47824953 11.8252805  12.39300142 12.55519649 12.769953   11.36679481\n",
            " 12.96480349 12.50216886 11.50980876 11.95884547 11.44958371 13.16010026\n",
            " 12.05559067 12.71797611 13.99850887 11.871165   12.31221069 11.61007956\n",
            " 13.80229617 14.53772869 12.52183126 12.69249083 12.21280298 11.72885039\n",
            " 12.22192476 12.20813083 11.39735772 12.84417613 12.23391116 12.77976915\n",
            " 13.54789146 11.70010427 12.13965267 12.01776146 12.34314015 12.29642101\n",
            " 12.7601278  11.25118371 13.264752   11.77360757 12.25216632 11.80519914\n",
            " 12.70641052 11.83457641 12.32938499 12.20461754 12.97324333 12.52229619]\n",
            "voting regressor accuracy : 0.538\n",
            "SVR accuracy : 0.608\n",
            "MLPRegressor accuracy : 0.225\n"
          ]
        }
      ]
    }
  ]
}